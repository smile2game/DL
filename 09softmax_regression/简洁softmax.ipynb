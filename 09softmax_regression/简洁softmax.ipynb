{
 "cells": [
  {
   "cell_type": "markdown",
   "metadata": {},
   "source": [
    "1.图像分类数据集的读取"
   ]
  },
  {
   "cell_type": "code",
   "execution_count": null,
   "metadata": {},
   "outputs": [],
   "source": [
    "%matplotlib inline\n",
    "import torch \n",
    "import torchvision\n",
    "from torch.utils import data\n",
    "from torchvision import transforms\n",
    "from d2l import torch as d2l #\n",
    "\n",
    "d2l.use_svg_display()"
   ]
  },
  {
   "cell_type": "markdown",
   "metadata": {},
   "source": [
    "2.直接利用调包，来进行数据集的获取"
   ]
  },
  {
   "cell_type": "code",
   "execution_count": null,
   "metadata": {},
   "outputs": [],
   "source": [
    "#首先需要把图片转换为 张量\n",
    "trans = transforms.ToTensor()\n",
    "#\n",
    "mnist_train = torchvision.datasets.FashionMNIST(\n",
    "    root=\"./data\",train = True ,transform = trans,download=True)\n",
    "mnist_test = torchvision.datasets.FashionMNIST(\n",
    "    root=\"./data\",train = False ,transform = trans,download=True)\n",
    "len(mnist_train),len(mnist_test)\n"
   ]
  },
  {
   "cell_type": "markdown",
   "metadata": {},
   "source": [
    "3.接下来我们对数据集进行可视化看一眼"
   ]
  },
  {
   "cell_type": "code",
   "execution_count": null,
   "metadata": {},
   "outputs": [],
   "source": [
    "\n",
    "def get_fashion_mnist_labels(labels): \n",
    "    text_labels = ['t-shirt', 'trouser', 'pullover', 'dress', \n",
    "                   'coat','sandal', 'shirt', 'sneaker', 'bag', 'ankle boot']\n",
    "    return [text_labels[int(i)] for i in labels] \n",
    "\n",
    "def show_images(imgs,num_rows,num_cols,titles =None,scale = 1.5):\n",
    "    figsize = (num_cols *scale, num_rows*scale)\n",
    "    _,axes = d2l.plt.subplots(num_rows,num_cols,figsize = figsize)\n",
    "    axes = axes.flatten()\n",
    "    for i,(ax,img) in enumerate(zip(axes,imgs)):\n",
    "        if torch.is_tensor(img):\n",
    "            ax.imshow(img.numpy())\n",
    "        else:\n",
    "            ax.imshow(img) \n",
    "        ax.axes.get_xaxis().set_visible(False)\n",
    "        ax.axes.get_yaxis().set_visible(False)\n",
    "        if titles:\n",
    "            ax.set_title(titles[i])\n",
    "    return axes  \n",
    "            "
   ]
  },
  {
   "cell_type": "code",
   "execution_count": null,
   "metadata": {},
   "outputs": [],
   "source": [
    "x,y  = next(iter(data.DataLoader(mnist_train,batch_size = 18)))\n",
    "show_images(x.reshape(18,28,28),2,9,titles = get_fashion_mnist_labels(y))#两行九张图片"
   ]
  },
  {
   "cell_type": "code",
   "execution_count": null,
   "metadata": {},
   "outputs": [],
   "source": [
    "batch_size = 256\n",
    "get_dataloader_workers = 1\n",
    "train_iter = data.DataLoader(mnist_train,batch_size,shuffle=True,num_workers = get_dataloader_workers)\n",
    "timer = d2l.Timer()\n",
    "for x,y in train_iter:\n",
    "    continue\n",
    "f'{timer.stop():.2f} sec'\n",
    "    "
   ]
  },
  {
   "cell_type": "code",
   "execution_count": null,
   "metadata": {},
   "outputs": [],
   "source": [
    "def load_mnist(batch_size,resize = None):\n",
    "    trans = [transforms.ToTensoor]\n",
    "    if resize: \n",
    "        trans.insert(0,transforms.Resize(resize))\n",
    "    trans = transforms.Compose(trans)\n",
    "    mnist_train = torchvision.datasets.FashionMNIST(\n",
    "    root=\"./data\",train = True ,transform = trans,download=True)\n",
    "    mnist_test = torchvision.datasets.FashionMNIST(\n",
    "        root=\"./data\",train = False ,transform = trans,download=True)\n",
    "    return (data.DataLoader(mnist_train,batch_size,shuffle=True,num_workers=get_dataloader_workers),\n",
    "            data.DataLoader(mnist_test,batch_size,shuffle=False,num_workers=get_dataloader_workers))"
   ]
  }
 ],
 "metadata": {
  "kernelspec": {
   "display_name": "Python 3.8.13 ('pytorch')",
   "language": "python",
   "name": "python3"
  },
  "language_info": {
   "codemirror_mode": {
    "name": "ipython",
    "version": 3
   },
   "file_extension": ".py",
   "mimetype": "text/x-python",
   "name": "python",
   "nbconvert_exporter": "python",
   "pygments_lexer": "ipython3",
   "version": "3.8.13"
  },
  "orig_nbformat": 4,
  "vscode": {
   "interpreter": {
    "hash": "0747f93ff6db21b2db2bf35ad4858dd0825b9c21797c41b4cc32097944ab3f10"
   }
  }
 },
 "nbformat": 4,
 "nbformat_minor": 2
}
